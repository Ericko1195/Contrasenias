{
 "cells": [
  {
   "cell_type": "code",
   "execution_count": 3,
   "id": "44728937-0776-401e-bcbc-f959c1828f16",
   "metadata": {},
   "outputs": [],
   "source": [
    "%load_ext autoreload\n",
    "%autoreload 2"
   ]
  },
  {
   "cell_type": "code",
   "execution_count": 4,
   "id": "5e95f56a-8b2f-42ba-90a7-215888ac031c",
   "metadata": {},
   "outputs": [],
   "source": [
    "import contrasenias as ct"
   ]
  },
  {
   "cell_type": "code",
   "execution_count": 5,
   "id": "941495af-e853-4747-8405-103d7f81bb26",
   "metadata": {},
   "outputs": [
    {
     "name": "stdout",
     "output_type": "stream",
     "text": [
      "Adios a todos\n"
     ]
    }
   ],
   "source": [
    "ct.hola()"
   ]
  },
  {
   "cell_type": "code",
   "execution_count": null,
   "id": "d1f2a8c0-ca55-4f08-a478-694627054b62",
   "metadata": {},
   "outputs": [],
   "source": [
    "ct.hola()"
   ]
  }
 ],
 "metadata": {
  "kernelspec": {
   "display_name": "Python 3 (ipykernel)",
   "language": "python",
   "name": "python3"
  },
  "language_info": {
   "codemirror_mode": {
    "name": "ipython",
    "version": 3
   },
   "file_extension": ".py",
   "mimetype": "text/x-python",
   "name": "python",
   "nbconvert_exporter": "python",
   "pygments_lexer": "ipython3",
   "version": "3.10.11"
  }
 },
 "nbformat": 4,
 "nbformat_minor": 5
}
